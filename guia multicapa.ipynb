{
 "cells": [
  {
   "cell_type": "markdown",
   "metadata": {},
   "source": [
    "# Guia PS y multicapa\n",
    "## Consigna parte 1\n",
    "Realizar la compuerta lógica AND con un perceptron simple programado sin librerías. Ir ploteando la recta obtenida para cada paso.\n",
    "## Consigna parte 2\n",
    "Realizar la compuerta lógica XOR con una red multicapa. Se pueden usar librerías.\n",
    "http://scikit-learn.org/stable/modules/neural_networks_supervised.html\n",
    "## Solución"
   ]
  },
  {
   "cell_type": "code",
   "execution_count": null,
   "metadata": {
    "collapsed": true
   },
   "outputs": [],
   "source": []
  },
  {
   "cell_type": "markdown",
   "metadata": {},
   "source": [
    "# Preparativos desafio"
   ]
  },
  {
   "cell_type": "code",
   "execution_count": 19,
   "metadata": {},
   "outputs": [],
   "source": [
    "import wfdb\n",
    "import numpy as np\n",
    "import os\n",
    "import matplotlib.pyplot as plot\n",
    "from IPython.display import display\n",
    "\n",
    "\n",
    "# Importo los datos del dataset 100 de mitdb\n",
    "signals2, fields2=wfdb.srdsamp('100', channels=[0,1], sampfrom=0, sampto=100000, pbdir = 'mitdb') \n",
    "# Importo las anotaciones del mismo dataset\n",
    "annotation = wfdb.rdann('100', 'atr', sampfrom = 0, sampto = 100000, pbdir = 'mitdb')\n",
    "#Me quedo con los picos de cada ECG que es donde están las anotaciones\n",
    "picos=annotation.annsamp\n",
    "\n",
    "#anotaciones de los datos\n",
    "anotaciones = annotation.anntype\n",
    "\n",
    "#Transpongo las señales leídas para poder operar mas comodamente\n",
    "signals=np.matrix.transpose(signals2)\n",
    "picos[-1]=0 #descarto el último pico por si el latido está interrumpido\n",
    "tam=125 #Tamaño del latido que tomo a la izquierda y a la derecha de la anotación\n",
    "cantLatidos=sum(picos>tam) #Cuento la cantidad de anotaciones en el segemento a analizar\n",
    "latidos=np.zeros([cantLatidos,2*tam]) #Reservo espacio para la matriz de datos cantLatidos x 2*tam\n",
    "latidosNorm=np.zeros([2*tam,cantLatidos])#Reservo espacio para la matriz de datos normalizados\n",
    "numLat=0 #Inicializo en cero para procesar cada uno de los picos\n",
    "for i in picos:\n",
    "    if i>tam: # i>tam por si el primer latido está trunco\n",
    "        latidos[numLat]=signals[0][i-tam:i+tam] #tomo tam muestras a la izquerda y a la derecha de la anotación\n",
    "        numLat+=1 #incremento el número de latidos\n",
    "\n",
    "#El set de latidos está en latidos y el largo de cada latido es de tam muestras\n",
    "\n",
    "latidos=np.matrix.transpose(latidos) #vuelvo a acondicionar los latidos para seguir operando cómodamente\n"
   ]
  },
  {
   "cell_type": "code",
   "execution_count": 20,
   "metadata": {},
   "outputs": [],
   "source": [
    "### Normalización\n",
    "\n",
    "# A continuación calculo la media y la varianza de cada elemento del vector de datos para poder normalizar cada dato\n",
    "medias=np.zeros(2*tam)\n",
    "desv=np.zeros(2*tam)\n",
    "for i in range(0,2*tam):\n",
    "    medias[i]=np.mean(latidos[i,:])\n",
    "    desv[i]=np.std(latidos[i,:])\n",
    "    \n",
    "# Normalizo cada latido\n",
    "for idx in range(0,2*tam):\n",
    "    latidosNorm[idx]=latidos[idx]-np.ones(cantLatidos)*medias[idx]\n",
    "    latidosNorm[idx]=latidosNorm[idx]/desv[idx]\n"
   ]
  },
  {
   "cell_type": "code",
   "execution_count": 32,
   "metadata": {},
   "outputs": [
    {
     "data": {
      "image/png": "[encoded data removed]",
      "text/plain": [
       "<matplotlib.figure.Figure at 0x1d27a91a278>"
      ]
     },
     "metadata": {},
     "output_type": "display_data"
    }
   ],
   "source": [
    "latidos=np.matrix.transpose(latidos) #vuelvo a acondicionar los latidos para seguir operando cómodamente\n",
    "\n",
    "plot.plot(latidos[1])\n",
    "plot.show()"
   ]
  },
  {
   "cell_type": "code",
   "execution_count": 33,
   "metadata": {},
   "outputs": [
    {
     "name": "stdout",
     "output_type": "stream",
     "text": [
      "N\n"
     ]
    }
   ],
   "source": [
    "print(anotaciones[4])"
   ]
  },
  {
   "cell_type": "code",
   "execution_count": null,
   "metadata": {
    "collapsed": true
   },
   "outputs": [],
   "source": []
  }
 ],
 "metadata": {
  "kernelspec": {
   "display_name": "Python 3",
   "language": "python",
   "name": "python3"
  },
  "language_info": {
   "codemirror_mode": {
    "name": "ipython",
    "version": 3
   },
   "file_extension": ".py",
   "mimetype": "text/x-python",
   "name": "python",
   "nbconvert_exporter": "python",
   "pygments_lexer": "ipython3",
   "version": "3.5.4"
  }
 },
 "nbformat": 4,
 "nbformat_minor": 2
}
